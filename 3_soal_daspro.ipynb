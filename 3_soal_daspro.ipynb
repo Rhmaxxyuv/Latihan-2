{
  "nbformat": 4,
  "nbformat_minor": 0,
  "metadata": {
    "colab": {
      "provenance": [],
      "authorship_tag": "ABX9TyOaH8t7anQ1uuB2P1ZBL8YY",
      "include_colab_link": true
    },
    "kernelspec": {
      "name": "python3",
      "display_name": "Python 3"
    },
    "language_info": {
      "name": "python"
    }
  },
  "cells": [
    {
      "cell_type": "markdown",
      "metadata": {
        "id": "view-in-github",
        "colab_type": "text"
      },
      "source": [
        "<a href=\"https://colab.research.google.com/github/Rhmaxxyuv/Latihan-2/blob/main/3_soal_daspro.ipynb\" target=\"_parent\"><img src=\"https://colab.research.google.com/assets/colab-badge.svg\" alt=\"Open In Colab\"/></a>"
      ]
    },
    {
      "cell_type": "code",
      "execution_count": 2,
      "metadata": {
        "colab": {
          "base_uri": "https://localhost:8080/"
        },
        "id": "Jd8H3vE_EzEA",
        "outputId": "f512592e-3b1c-4f25-ee9d-1fa6d5880a2a"
      },
      "outputs": [
        {
          "output_type": "stream",
          "name": "stdout",
          "text": [
            "==============================\n",
            "      Angka Lebih Besar     \n",
            "==============================\n",
            "Masukkan Angka Pertama :12\n",
            "Masukkan Angka Kedua :24\n",
            "Angka 24 lebih besar daripada angka 12\n"
          ]
        }
      ],
      "source": [
        "print('=' * 30)\n",
        "print('      Angka Lebih Besar     ')\n",
        "print('=' * 30)\n",
        "\n",
        "angkapertama = (input(\"Masukkan Angka Pertama :\"))\n",
        "angkakedua = (input(\"Masukkan Angka Kedua :\"))\n",
        "\n",
        "if angkapertama>angkakedua:\n",
        "  print(\"Angka\", angkapertama, \"lebih besar daripada angka\", angkakedua)\n",
        "else:\n",
        "  print(\"Angka\", angkakedua, \"lebih besar daripada angka\", angkapertama)"
      ]
    },
    {
      "cell_type": "code",
      "source": [
        "print('=' * 30)\n",
        "print('      Bilangan Prima     ')\n",
        "print('=' * 30)\n",
        "\n",
        "angka = int(input(\"Masukkan angka: \"))\n",
        "bilangan_prima = True\n",
        "if angka > 1:\n",
        "    for i in range(2, angka):\n",
        "        if angka % i == 0:\n",
        "            is_prima = False\n",
        "else:\n",
        "    bilangan_prima = False\n",
        "if is_prima:\n",
        "    print(angka, \"adalah bilangan prima\")\n",
        "else:\n",
        "    print(angka, \"bukan bilangan prima\")"
      ],
      "metadata": {
        "colab": {
          "base_uri": "https://localhost:8080/"
        },
        "id": "r_cNl2vlFIor",
        "outputId": "46573272-33d5-4aca-a4e8-402894c5b416"
      },
      "execution_count": 3,
      "outputs": [
        {
          "output_type": "stream",
          "name": "stdout",
          "text": [
            "==============================\n",
            "      Bilangan Prima     \n",
            "==============================\n",
            "Masukkan angka: 4\n",
            "4 bukan bilangan prima\n"
          ]
        }
      ]
    },
    {
      "cell_type": "code",
      "source": [
        "print('=' * 30)\n",
        "print('   Pendapatan & Skor Kredit     ')\n",
        "print('=' * 30)\n",
        "\n",
        "pendapatan_tahunan = float(input(\"Masukkan pendapatan tahunan Anda (dalam juta rupiah): \"))\n",
        "skor_kredit = int(input(\"Masukkan skor kredit Anda: \"))\n",
        "\n",
        "if pendapatan_tahunan >= 30 and skor_kredit >= 700:\n",
        "    print(\"Anda layak untuk mendapatkan kredit.\")\n",
        "else:\n",
        "    print(\"Maaf, Anda tidak layak untuk mendapatkan kredit.\")"
      ],
      "metadata": {
        "colab": {
          "base_uri": "https://localhost:8080/"
        },
        "id": "mBmiwsqKFOQj",
        "outputId": "024465cc-d9b4-4bc3-dc28-f62873491f63"
      },
      "execution_count": 17,
      "outputs": [
        {
          "output_type": "stream",
          "name": "stdout",
          "text": [
            "==============================\n",
            "   Pendapatan & Skor Kredit     \n",
            "==============================\n",
            "Masukkan pendapatan tahunan Anda (dalam juta rupiah): 90\n",
            "Masukkan skor kredit Anda: 700\n",
            "Anda layak untuk mendapatkan kredit.\n"
          ]
        }
      ]
    }
  ]
}